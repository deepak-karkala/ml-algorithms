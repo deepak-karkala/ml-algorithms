{
 "cells": [
  {
   "cell_type": "code",
   "execution_count": 1,
   "metadata": {},
   "outputs": [],
   "source": [
    "import numpy as np\n",
    "import math\n",
    "import sys\n",
    "import matplotlib.pyplot as plt"
   ]
  },
  {
   "cell_type": "code",
   "execution_count": 2,
   "metadata": {},
   "outputs": [],
   "source": [
    "from sklearn import datasets\n",
    "from sklearn.model_selection import train_test_split"
   ]
  },
  {
   "cell_type": "code",
   "execution_count": 3,
   "metadata": {},
   "outputs": [],
   "source": [
    "class Sigmoid():\n",
    "    \"\"\"Sigmoid function\n",
    "    \"\"\"\n",
    "    def __call__(self, x):\n",
    "        return 1 / (1 + np.exp(-x))\n",
    "    \n",
    "    def grad(self, x):\n",
    "        return self.__call__(x) * (1 - self.__call__(x))\n",
    "\n",
    "def normalize(X, axis=-1, order=2):\n",
    "    \"\"\"Normalise the dataset (unit norm)\n",
    "        Axis:0 => Each feature(column) is normalised to unit norm\n",
    "        Axis:1 => Each sample(row) is normalised to unit norm\n",
    "        X = X / sqrt(|X|^2)\n",
    "    \"\"\"\n",
    "    norm = np.atleast_1d(np.linalg.norm(X, ord=order, axis=axis))\n",
    "    norm[norm == 0] = 1\n",
    "    return X / np.expand_dims(norm, axis=axis)\n",
    "\n",
    "def accuracy_score(y_true, y_pred):\n",
    "    return np.sum(y_true == y_pred, axis=0) / len(y_true)"
   ]
  },
  {
   "cell_type": "code",
   "execution_count": 33,
   "metadata": {},
   "outputs": [],
   "source": [
    "class LogisticRegression():\n",
    "    \"\"\"Logistic Regression Classifier\n",
    "    Parameters\n",
    "    ----------\n",
    "    n_iterations: int\n",
    "        Number of gd iterations\n",
    "    learning_rate: float\n",
    "        Learning rate for gradient descent\n",
    "    gradient_descent: boolean\n",
    "        Flag to enable/disable gradient_descent\n",
    "    \"\"\"\n",
    "    def __init__(self, n_iterations=100, learning_rate=0.0001, gradient_descent=True):\n",
    "        self.n_iterations = n_iterations\n",
    "        self.learning_rate = learning_rate\n",
    "        self.gradient_descent = gradient_descent\n",
    "        self.sigmoid = Sigmoid()\n",
    "    \n",
    "    def _initialise_parameters(self, n_features):\n",
    "        \"\"\"Initialise parameters\n",
    "        \"\"\"\n",
    "        limit = 1 / np.sqrt(n_features)\n",
    "        self.w = np.random.uniform(-limit, limit, (n_features,1))\n",
    "\n",
    "    def fit(self, x, y):\n",
    "        \"\"\"Fit parameters of logistic regression model\n",
    "        \"\"\"\n",
    "        n_features = x.shape[1]\n",
    "        self._initialise_parameters(n_features)\n",
    "        self.training_errors = []\n",
    "\n",
    "        for i in range(self.n_iterations):\n",
    "            y_pred = self.sigmoid(x @ self.w)\n",
    "            if self.gradient_descent:\n",
    "                y_pred_ones = y_pred[y == 1]\n",
    "                y_pred_zeros = y_pred[y == 0]\n",
    "                loss =  - np.sum(np.log(y_pred_ones)) - np.sum(np.log(1 - y_pred_zeros))\n",
    "                self.training_errors.append(loss)\n",
    "                grad_w = - x.T @ (y - y_pred)\n",
    "                self.w -= self.learning_rate * grad_w\n",
    "            else:\n",
    "                # Batch optimisation [ TODO - What's this ?]\n",
    "                # Make a diagonal matrix of the sigmoid gradient column vector\n",
    "                diag_gradient = make_diagonal(self.sigmoid.gradient(x @ self.w))\n",
    "                self.param = np.linalg.pinv(x.T @ diag_gradient @ X) @ x.T @ (diag_gradient @ (x @ self.param) + y - y_pred)\n",
    "\n",
    "    \n",
    "    def predict(self, x):\n",
    "        \"\"\"Output class label of logistic regression model\n",
    "        after having fit parameters\n",
    "        \"\"\"\n",
    "        return np.round(self.sigmoid(x @ self.w)).astype(int)\n",
    "    \n",
    "    def predict_proba(self, x):\n",
    "        \"\"\"Output class probability of logistic regression model\n",
    "        after having fit parameters\n",
    "        \"\"\"\n",
    "        return self.sigmoid(x @ self.w)\n"
   ]
  },
  {
   "cell_type": "code",
   "execution_count": 40,
   "metadata": {},
   "outputs": [],
   "source": [
    "# Load, normalise data\n",
    "# Use 2 of the 3 iris dataset classes\n",
    "data = datasets.load_iris()\n",
    "x = normalize(data.data[data.target != 0], axis=0, order=2)\n",
    "y = data.target[data.target != 0]\n",
    "y[data == 1] = 0\n",
    "y[data == 2] = 1\n",
    "\n",
    "# Split data into training and test set\n",
    "x_train, x_test, y_train, y_test = train_test_split(x, y, test_size=0.33)\n",
    "# Reshape\n",
    "y = y.reshape(y.shape[0], 1)\n",
    "y_train = y_train.reshape(y_train.shape[0], 1)\n",
    "y_test = y_test.reshape(y_test.shape[0], 1)\n"
   ]
  },
  {
   "cell_type": "code",
   "execution_count": 46,
   "metadata": {},
   "outputs": [
    {
     "name": "stdout",
     "output_type": "stream",
     "text": [
      "[0.54545455]\n"
     ]
    }
   ],
   "source": [
    "n_iterations = 500\n",
    "learning_rate = 0.01\n",
    "gradient_descent = True\n",
    "clf = LogisticRegression(n_iterations=n_iterations, learning_rate=learning_rate,\n",
    "                         gradient_descent=gradient_descent)\n",
    "\n",
    "clf.fit(x_train, y_train)\n",
    "y_pred = clf.predict(x_test)\n",
    "accuracy = accuracy_score(y_test, y_pred)\n",
    "print(accuracy)"
   ]
  },
  {
   "cell_type": "code",
   "execution_count": 47,
   "metadata": {},
   "outputs": [
    {
     "data": {
      "text/plain": [
       "[<matplotlib.lines.Line2D at 0x12a185c88>]"
      ]
     },
     "execution_count": 47,
     "metadata": {},
     "output_type": "execute_result"
    },
    {
     "data": {
      "image/png": "[encoded data removed]",
      "text/plain": [
       "<Figure size 432x288 with 1 Axes>"
      ]
     },
     "metadata": {
      "needs_background": "light"
     },
     "output_type": "display_data"
    }
   ],
   "source": [
    "plt.plot(clf.training_errors)"
   ]
  },
  {
   "cell_type": "code",
   "execution_count": null,
   "metadata": {},
   "outputs": [],
   "source": []
  }
 ],
 "metadata": {
  "kernelspec": {
   "display_name": "env",
   "language": "python",
   "name": "python3"
  },
  "language_info": {
   "codemirror_mode": {
    "name": "ipython",
    "version": 3
   },
   "file_extension": ".py",
   "mimetype": "text/x-python",
   "name": "python",
   "nbconvert_exporter": "python",
   "pygments_lexer": "ipython3",
   "version": "3.6.5"
  },
  "orig_nbformat": 4,
  "vscode": {
   "interpreter": {
    "hash": "6405b044df7d297575459db63fc228bdb9d95a12369b8249bfbb6c77cae13e4b"
   }
  }
 },
 "nbformat": 4,
 "nbformat_minor": 2
}
