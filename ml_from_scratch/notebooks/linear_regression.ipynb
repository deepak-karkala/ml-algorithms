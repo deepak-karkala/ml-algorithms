{
 "cells": [
  {
   "cell_type": "code",
   "execution_count": 11,
   "metadata": {},
   "outputs": [],
   "source": [
    "import numpy as np\n",
    "import math\n",
    "import sys\n",
    "from sklearn.datasets import make_regression\n",
    "from sklearn.model_selection import train_test_split"
   ]
  },
  {
   "cell_type": "markdown",
   "metadata": {},
   "source": [
    "# Linear Regression"
   ]
  },
  {
   "cell_type": "code",
   "execution_count": 12,
   "metadata": {},
   "outputs": [
    {
     "name": "stdout",
     "output_type": "stream",
     "text": [
      "(750, 1)\n"
     ]
    }
   ],
   "source": [
    "def main():\n",
    "    n_samples = 1000\n",
    "    n_features = 1\n",
    "    test_size = 0.25\n",
    "    n_iterations = 100\n",
    "\n",
    "    # Create dataset\n",
    "    X, y = make_regression(n_samples=n_samples, n_features=n_features, noise=20)\n",
    "\n",
    "    # Create train, test split\n",
    "    X_train, X_test, y_train, y_test = train_test_split(X, y, test_size=test_size)\n",
    "    print(X_train.shape)\n",
    "\n",
    "    model = LinearRegression(n_iterations=n_iterations)\n",
    "\n",
    "if __name__ == \"__main__\":\n",
    "    main()"
   ]
  },
  {
   "cell_type": "code",
   "execution_count": null,
   "metadata": {},
   "outputs": [],
   "source": [
    "class Regression(object):\n",
    "    \"\"\"\n",
    "    Models relationship b/w  independent variables X and dependent variable y\n",
    "    Base class for linear regression models\n",
    "    Parameters\n",
    "    ----------\n",
    "    n_iterations: float\n",
    "        Number of training iterations\n",
    "    learning_rate: float\n",
    "        Step size of optimisation algorithm\n",
    "    \"\"\"\n",
    "\n",
    "    def __init__(self, n_iterations, learning_rate):\n",
    "        self.n_iterations = n_iterations\n",
    "        self.learning_rate = learning_rate\n",
    "    \n",
    "    def initialize_weights(self, n_features):\n",
    "        \"\"\"Initialise weights randomly b/w [-1/sqrt(N) 1/sqrt(N)]\"\"\"\n",
    "        limit = 1 / math.sqrt(n_features)\n",
    "        self.w = np.random.uniform(-limit, limit, (n_features, ))\n",
    "    \n",
    "    def fit(self, X, y):\n",
    "        \"\"\"Learn parameters using supervised data\"\"\"\n",
    "        # Insert column of 1s for bias term\n",
    "        X = np.insert(X, 0, 1, axis=1)\n",
    "        # Initialise weights\n",
    "        self.initialize_weights(n_features=X.shape[1])\n",
    "        self._training_errors = []\n",
    "\n",
    "        # Gradient descent for n_iterations\n",
    "        for i in range(n_iterations):\n",
    "            # Predicted output\n",
    "            y_pred = X.dot(self.w)\n",
    "            # Error (target - predicted)\n",
    "            # L2 Loss\n",
    "            mse = np.mean(0.5*(y - y_pred)**2) + self.regularization(self.w)\n",
    "            # Gradient of error\n",
    "            grad = -(y - y_pred)\n",
    "            # Gradient descent step"
   ]
  }
 ],
 "metadata": {
  "kernelspec": {
   "display_name": "base",
   "language": "python",
   "name": "python3"
  },
  "language_info": {
   "codemirror_mode": {
    "name": "ipython",
    "version": 3
   },
   "file_extension": ".py",
   "mimetype": "text/x-python",
   "name": "python",
   "nbconvert_exporter": "python",
   "pygments_lexer": "ipython3",
   "version": "3.6.5 |Anaconda, Inc.| (default, Apr 26 2018, 08:42:37) \n[GCC 4.2.1 Compatible Clang 4.0.1 (tags/RELEASE_401/final)]"
  },
  "vscode": {
   "interpreter": {
    "hash": "d58b18e7b01016a91099f7b9ff9e04a9c7fe388e7a62de199c633b2e4fde8ca4"
   }
  }
 },
 "nbformat": 4,
 "nbformat_minor": 2
}
