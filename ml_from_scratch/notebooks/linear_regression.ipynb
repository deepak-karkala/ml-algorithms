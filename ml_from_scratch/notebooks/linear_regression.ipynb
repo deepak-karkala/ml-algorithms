{
 "cells": [
  {
   "cell_type": "code",
   "execution_count": null,
   "metadata": {},
   "outputs": [],
   "source": [
    "import numpy as np\n",
    "import math\n",
    "import sys\n",
    "from sklearn.datasets import make_regression\n",
    "from sklearn.model_selection import train_test_split\n",
    "import matplotlib.pyplot as plt\n",
    "#from ml_from_scratch.utils import normalize, standardize, polynomial_features"
   ]
  },
  {
   "cell_type": "markdown",
   "metadata": {},
   "source": [
    "# Linear Regression"
   ]
  },
  {
   "cell_type": "code",
   "execution_count": null,
   "metadata": {},
   "outputs": [],
   "source": [
    "def main():\n",
    "    n_samples = 100\n",
    "    n_features = 2\n",
    "    test_size = 0.25\n",
    "    n_iterations = 100\n",
    "    learning_rate = 0.001\n",
    "\n",
    "    # Create dataset\n",
    "    X, y = make_regression(n_samples=n_samples, n_features=n_features, noise=0)\n",
    "\n",
    "    # Create train, test split\n",
    "    X_train, X_test, y_train, y_test = train_test_split(X, y, test_size=test_size)\n",
    "    #print(X_train.shape)\n",
    "\n",
    "    model = LinearRegression(n_iterations=n_iterations, learning_rate=learning_rate, gradient_descent=True)\n",
    "    model.fit(X_train, y_train)\n",
    "    y_pred = model.predict(X_test)\n",
    "    print(mean_squared_error(y_pred, y_test))\n",
    "\n",
    "    # Training error plot\n",
    "    n = len(model.training_errors)\n",
    "    training, = plt.plot(range(n), model.training_errors, label=\"Training Error\")\n",
    "    plt.legend(handles=[training])\n",
    "    plt.title(\"Error Plot\")\n",
    "    plt.ylabel('Mean Squared Error')\n",
    "    plt.xlabel('Iterations')\n",
    "    plt.show()\n",
    "\n",
    "if __name__ == \"__main__\":\n",
    "    main()"
   ]
  },
  {
   "cell_type": "code",
   "execution_count": null,
   "metadata": {},
   "outputs": [],
   "source": [
    "class Regression(object):\n",
    "    \"\"\"\n",
    "    Models relationship b/w  independent variables X and dependent variable y\n",
    "    Base class for linear regression models\n",
    "    Parameters\n",
    "    ----------\n",
    "    n_iterations: float\n",
    "        Number of training iterations\n",
    "    learning_rate: float\n",
    "        Step size of optimisation algorithm\n",
    "    \"\"\"\n",
    "\n",
    "    def __init__(self, n_iterations, learning_rate):\n",
    "        self.n_iterations = n_iterations\n",
    "        self.learning_rate = learning_rate\n",
    "    \n",
    "    def initialize_weights(self, n_features):\n",
    "        \"\"\"Initialise weights randomly b/w [-1/sqrt(N) 1/sqrt(N)]\"\"\"\n",
    "        limit = 1 / math.sqrt(n_features)\n",
    "        self.w = np.random.uniform(-limit, limit, (n_features, ))\n",
    "    \n",
    "    def fit(self, X, y):\n",
    "        \"\"\"Learn parameters using supervised data\"\"\"\n",
    "        # Insert column of 1s for bias term\n",
    "        X = np.insert(X, 0, 1, axis=1)\n",
    "        # Initialise weights\n",
    "        self.initialize_weights(n_features=X.shape[1])\n",
    "        self.training_errors = []\n",
    "\n",
    "        # Gradient descent for n_iterations\n",
    "        for i in range(self.n_iterations):\n",
    "            # Predicted output\n",
    "            y_pred = X.dot(self.w)\n",
    "            # Error (target - predicted)\n",
    "            # L2 Loss\n",
    "            mse = np.mean(0.5*(y - y_pred)**2) + self.regularization(self.w)\n",
    "            self.training_errors.append(mse)\n",
    "            # Gradient of error\n",
    "            grad_w = -(y - y_pred).dot(X) + self.regularization.grad(self.w)\n",
    "            # Gradient descent step\n",
    "            self.w -= self.learning_rate * grad_w\n",
    "    \n",
    "    def predict(self, X):\n",
    "        \"\"\"Predictions for new data\"\"\"\n",
    "        X = np.insert(X, 0, 1, axis=1)\n",
    "        y_pred = X.dot(self.w)\n",
    "        return y_pred"
   ]
  },
  {
   "cell_type": "code",
   "execution_count": null,
   "metadata": {},
   "outputs": [],
   "source": [
    "class LinearRegression(Regression):\n",
    "    \"\"\"Linear Regression Model\n",
    "    \"\"\"\n",
    "    def __init__(self, n_iterations=100, learning_rate=0.0001, gradient_descent=True):\n",
    "        self.gradient_descent = gradient_descent\n",
    "        # No regularisation\n",
    "        self.regularization = lambda x: 0\n",
    "        self.regularization.grad = lambda x: 0\n",
    "        super(LinearRegression, self).__init__(n_iterations=n_iterations, learning_rate=learning_rate)\n",
    "    \n",
    "    def fit(self, X, y):\n",
    "        \"\"\"\n",
    "        If gradient descent use base class's fit\n",
    "        If not gradient descent use normal equations (inverse using SVD)\n",
    "        \"\"\"\n",
    "        if self.gradient_descent:\n",
    "            super(LinearRegression, self).fit(X, y)\n",
    "        else:\n",
    "            X = np.insert(X, 0, 1, axis=1)\n",
    "            # Moore-Penrose pseudo inverse\n",
    "            U, S, V = np.linalg.svd(X.T.dot(X))\n",
    "            S = np.diag(S)\n",
    "            Xtx_inv = V.dot(np.linalg.pinv(S)).dot(U.T)\n",
    "            self.w = Xtx_inv.dot(X.T).dot(y)\n",
    "            self.training_errors = []"
   ]
  },
  {
   "cell_type": "code",
   "execution_count": null,
   "metadata": {},
   "outputs": [],
   "source": []
  }
 ],
 "metadata": {
  "kernelspec": {
   "display_name": "base",
   "language": "python",
   "name": "python3"
  },
  "language_info": {
   "codemirror_mode": {
    "name": "ipython",
    "version": 3
   },
   "file_extension": ".py",
   "mimetype": "text/x-python",
   "name": "python",
   "nbconvert_exporter": "python",
   "pygments_lexer": "ipython3",
   "version": "3.6.5"
  },
  "vscode": {
   "interpreter": {
    "hash": "d58b18e7b01016a91099f7b9ff9e04a9c7fe388e7a62de199c633b2e4fde8ca4"
   }
  }
 },
 "nbformat": 4,
 "nbformat_minor": 2
}
