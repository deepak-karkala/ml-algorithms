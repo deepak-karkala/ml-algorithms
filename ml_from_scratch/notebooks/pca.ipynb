{
 "cells": [
  {
   "cell_type": "code",
   "execution_count": 1,
   "metadata": {},
   "outputs": [],
   "source": [
    "import numpy as np\n",
    "import math\n",
    "import sys\n",
    "import matplotlib.pyplot as plt\n",
    "from sklearn import datasets"
   ]
  },
  {
   "attachments": {},
   "cell_type": "markdown",
   "metadata": {},
   "source": [
    "# PCA"
   ]
  },
  {
   "cell_type": "code",
   "execution_count": null,
   "metadata": {},
   "outputs": [],
   "source": [
    "class PCA():\n",
    "    \"\"\"Principal component analysis\n",
    "    \"\"\"\n",
    "\n",
    "    def __init__(self, num_components):\n",
    "        self.num_components = num_components\n",
    "    \n",
    "    def transform(self, x):\n",
    "        # Calculate covariance matrix\n",
    "        covariance_matrix = calculate_covariance_matrix(x)\n",
    "        \n",
    "        # Get eigenvectors, eigenvalues using Eigen decomposition or SVD\n",
    "        eigenvalues, eigenvectors = np.linalg.eig(covariance_matrix)\n",
    "        \n",
    "        # First num_component eigenvectors (sorted in decreasing\n",
    "        # order of eigenvalues) are the principal components \n",
    "        idx = eigenvalues.argsort()[::-1]\n",
    "        eigenvalues = eigenvalues[idx][:self.num_components]\n",
    "        eigenvectors = np.atleast_1d(eigenvectors[:, idx])[:, :self.num_component]\n",
    "\n",
    "        # Project data onto principal components\n",
    "        x_transformed = x.dot(eigenvectors)\n",
    "        return x_transformed\n"
   ]
  },
  {
   "cell_type": "code",
   "execution_count": null,
   "metadata": {},
   "outputs": [],
   "source": [
    "# Load the dataset\n",
    "data = datasets.load_digits()\n",
    "X = data.data\n",
    "y = data.target"
   ]
  }
 ],
 "metadata": {
  "kernelspec": {
   "display_name": "env",
   "language": "python",
   "name": "python3"
  },
  "language_info": {
   "codemirror_mode": {
    "name": "ipython",
    "version": 3
   },
   "file_extension": ".py",
   "mimetype": "text/x-python",
   "name": "python",
   "nbconvert_exporter": "python",
   "pygments_lexer": "ipython3",
   "version": "3.6.5 |Anaconda, Inc.| (default, Apr 26 2018, 08:42:37) \n[GCC 4.2.1 Compatible Clang 4.0.1 (tags/RELEASE_401/final)]"
  },
  "orig_nbformat": 4,
  "vscode": {
   "interpreter": {
    "hash": "6405b044df7d297575459db63fc228bdb9d95a12369b8249bfbb6c77cae13e4b"
   }
  }
 },
 "nbformat": 4,
 "nbformat_minor": 2
}
